{
  "nbformat": 4,
  "nbformat_minor": 0,
  "metadata": {
    "kernelspec": {
      "display_name": "Python 3",
      "language": "python",
      "name": "python3"
    },
    "language_info": {
      "codemirror_mode": {
        "name": "ipython",
        "version": 3
      },
      "file_extension": ".py",
      "mimetype": "text/x-python",
      "name": "python",
      "nbconvert_exporter": "python",
      "pygments_lexer": "ipython3",
      "version": "3.7.3"
    },
    "colab": {
      "name": "LSTM_Notes_Chords_Rest_Duration.ipynb",
      "provenance": [],
      "collapsed_sections": [],
      "include_colab_link": true
    },
    "accelerator": "GPU"
  },
  "cells": [
    {
      "cell_type": "markdown",
      "metadata": {
        "id": "view-in-github",
        "colab_type": "text"
      },
      "source": [
        "<a href=\"https://colab.research.google.com/github/NeaamHariri/AI/blob/main/LSTM_Notes_Chords_Rest_Duration.ipynb\" target=\"_parent\"><img src=\"https://colab.research.google.com/assets/colab-badge.svg\" alt=\"Open In Colab\"/></a>"
      ]
    },
    {
      "cell_type": "code",
      "metadata": {
        "id": "Tvrqk5D6XaWW"
      },
      "source": [
        "import numpy as np\n",
        "import tensorflow as tf\n",
        "import tensorflow.keras as keras\n",
        "from tensorflow.keras import layers, Model\n",
        "from music21 import *\n",
        "import os\n",
        "import pickle\n",
        "import IPython.display as display"
      ],
      "execution_count": 36,
      "outputs": []
    },
    {
      "cell_type": "code",
      "metadata": {
        "colab": {
          "base_uri": "https://localhost:8080/"
        },
        "id": "pK5wdX5nYKYs",
        "outputId": "d08ce181-194e-40ff-8f91-67860ac503e3"
      },
      "source": [
        "from google.colab import drive\n",
        "drive.mount('/content/drive')"
      ],
      "execution_count": 37,
      "outputs": [
        {
          "output_type": "stream",
          "name": "stdout",
          "text": [
            "Drive already mounted at /content/drive; to attempt to forcibly remount, call drive.mount(\"/content/drive\", force_remount=True).\n"
          ]
        }
      ]
    },
    {
      "cell_type": "code",
      "metadata": {
        "id": "1UD0ejFEXaWe"
      },
      "source": [
        "def get_midi():\n",
        "    notes = []\n",
        "    durations = []\n",
        "    path = '/content/d/'\n",
        "    for file in os.listdir(path):\n",
        "        mf = converter.parse(path+file)\n",
        "        \n",
        "        print(f\"Parsing {file}...\")\n",
        "        \n",
        "        notes_to_parse = None\n",
        "        \n",
        "        try:\n",
        "            s = instrument.partitionByInstrument(mf)\n",
        "            notes_to_parse = mf.recurse()\n",
        "        except:\n",
        "            notes_to_parse = mf.flat.notesAndRests\n",
        "            \n",
        "        for element in notes_to_parse:\n",
        "            if isinstance(element, note.Note):\n",
        "                notes.append(str(element.pitch))\n",
        "                durations.append(str(element.duration.quarterLength))\n",
        "            elif isinstance(element, chord.Chord):\n",
        "                notes.append('.'.join(str(n) for n in element.normalOrder))\n",
        "                durations.append(str(element.duration.quarterLength))\n",
        "            elif isinstance(element, note.Rest):\n",
        "                notes.append(str(element.name))\n",
        "                durations.append(str(element.duration.quarterLength))\n",
        "                \n",
        "    with open('/content/drive/MyDrive/ai/data/notes', 'wb') as filepath:\n",
        "        pickle.dump(notes, filepath)\n",
        "    \n",
        "    with open('/content/drive/MyDrive/ai/data/durations', 'wb') as filepath:\n",
        "        pickle.dump(durations, filepath)\n",
        "    \n",
        "    return notes, durations"
      ],
      "execution_count": 38,
      "outputs": []
    },
    {
      "cell_type": "code",
      "metadata": {
        "id": "CHUtmjHdXaWg"
      },
      "source": [
        "def preprocess_sequence(notes, durations, n_vocab_notes, n_vocab_durations):\n",
        "    sequence_length = 100\n",
        "    \n",
        "    pitchnames = sorted(set(notes))\n",
        "    unique_durations = sorted(set(durations))\n",
        "    \n",
        "    note_to_int = dict((note, idx) for idx, note in enumerate(pitchnames))\n",
        "    duration_to_int = dict((duration, idx) for idx, duration in enumerate(unique_durations))\n",
        "    \n",
        "    notes_input = []\n",
        "    durations_input = []\n",
        "    \n",
        "    notes_output = []\n",
        "    durations_output = []\n",
        "    \n",
        "    for i in range(len(notes) - sequence_length):\n",
        "        note_sequence_in = notes[i:i+sequence_length]\n",
        "        note_sequence_out = notes[i+sequence_length]\n",
        "        duration_sequence_in = durations[i:i+sequence_length]\n",
        "        duration_sequence_out = durations[i+sequence_length]\n",
        "        \n",
        "        notes_input.append([note_to_int[c] for c in note_sequence_in])\n",
        "        notes_output.append(note_to_int[note_sequence_out])\n",
        "        \n",
        "        durations_input.append([duration_to_int[c] for c in duration_sequence_in])\n",
        "        durations_output.append(duration_to_int[duration_sequence_out])\n",
        "        \n",
        "    n_samples = len(notes_input)\n",
        "    \n",
        "    # Reshape input and output to fit into network\n",
        "    notes_input = np.reshape(notes_input, (n_samples, sequence_length, 1))\n",
        "    notes_output = keras.utils.to_categorical(notes_output)\n",
        "    \n",
        "    durations_input = np.reshape(durations_input, (n_samples, sequence_length, 1))\n",
        "    durations_output = keras.utils.to_categorical(durations_output)\n",
        "    \n",
        "    # Normalize input\n",
        "    notes_input = notes_input / float(n_vocab_notes)\n",
        "    durations_input = durations_input / float(n_vocab_durations)\n",
        "    \n",
        "    return notes_input, notes_output, durations_input, durations_output"
      ],
      "execution_count": 66,
      "outputs": []
    },
    {
      "cell_type": "code",
      "metadata": {
        "id": "eaJctapRXaWi"
      },
      "source": [
        "def create_model_functional_Reg(notes, durations, n_notes, n_durations):\n",
        "    note_input = layers.Input(shape=notes.shape[1:])\n",
        "    duration_input = layers.Input(shape=durations.shape[1:])\n",
        "    \n",
        "    mergeLayer = layers.Concatenate(axis=-1)([note_input, duration_input])\n",
        "    \n",
        "    lstm1 = layers.LSTM(512, return_sequences=True)(mergeLayer)  # pass all activations to the next LSTM layer\n",
        "    lstm1 = layers.Dropout(0.3)(lstm1)\n",
        "    lstm2 = layers.LSTM(512, return_sequences=False)(lstm1)  # only return one prediction\n",
        "    lstm2 = layers.Dropout(0.3)(lstm2)\n",
        "    \n",
        "    dense1 = layers.Dense(256)(lstm2)\n",
        "    dense1 = layers.Dropout(0.3)(dense1)\n",
        "    \n",
        "    note_output = layers.Dense(n_notes, activation='softmax', name='notes')(dense1)\n",
        "    duration_output = layers.Dense(n_durations, activation='softmax', name='durations')(dense1)\n",
        "    \n",
        "    model = Model(inputs=[note_input, duration_input], outputs=[note_output, duration_output])\n",
        "    model.compile(loss='categorical_crossentropy', optimizer='rmsprop', metrics=['accuracy'])\n",
        "    \n",
        "    return model"
      ],
      "execution_count": 67,
      "outputs": []
    },
    {
      "cell_type": "code",
      "metadata": {
        "id": "CB9MqXHvXaWj"
      },
      "source": [
        "def create_model_functional(notes, durations, n_notes, n_durations):\n",
        "    note_input = layers.Input(shape=notes.shape[1:])\n",
        "    print(note_input)\n",
        "    duration_input = layers.Input(shape=durations.shape[1:])\n",
        "    print(duration_input)\n",
        "    \n",
        "    mergeLayer = layers.Concatenate(axis=-1)([note_input, duration_input])\n",
        "    \n",
        "    bilstm1 = layers.Bidirectional(layers.LSTM(512, return_sequences=True))(mergeLayer)\n",
        "    bilstm1 = layers.Dropout(0.3)(bilstm1)\n",
        "    \n",
        "    bilstm2 = layers.Bidirectional(layers.LSTM(512, return_sequences=True))(bilstm1)\n",
        "    bilstm2 = layers.Dropout(0.3)(bilstm2)\n",
        "    \n",
        "    lstm2 = layers.LSTM(512)(bilstm2)\n",
        "    lstm2 = layers.Dropout(0.3)(lstm2)\n",
        "    \n",
        "    note_output = layers.Dense(214, activation='softmax', name='notes')(lstm2)\n",
        "    duration_output = layers.Dense(28, activation='softmax', name='durations')(lstm2)\n",
        "    \n",
        "    model = Model(inputs=[note_input, duration_input], outputs=[note_output, duration_output])\n",
        "    model.compile(loss='categorical_crossentropy', optimizer='rmsprop', metrics=['accuracy'])\n",
        "    \n",
        "    return model"
      ],
      "execution_count": 93,
      "outputs": []
    },
    {
      "cell_type": "code",
      "metadata": {
        "id": "SBVIfoG-XaWk"
      },
      "source": [
        "def create_model_sequential(notes, n_vocab):\n",
        "    model = keras.Sequential()\n",
        "    \n",
        "    model.add(layers.LSTM(512, return_sequences=True, input_shape=notes.shape[1:]))\n",
        "    model.add(layers.Dropout(0.3))\n",
        "    model.add(layers.LSTM(512, return_sequences=True))\n",
        "    model.add(layers.Dropout(0.3))\n",
        "    model.add(layers.Dense(256))\n",
        "    model.add(layers.Dropout(0.3))\n",
        "    model.add(layers.Dense(n_vocab))\n",
        "    model.add(layers.Activation('softmax'))\n",
        "    \n",
        "    model.compile(loss='categorical_crossentropy', optimizer='rmsprop', metrics=['accuracy'])\n",
        "    \n",
        "    return model"
      ],
      "execution_count": 69,
      "outputs": []
    },
    {
      "cell_type": "code",
      "metadata": {
        "id": "W8DsUMlSXaWl"
      },
      "source": [
        "def train_network():\n",
        "    notes, durations = get_midi()\n",
        "    \n",
        "    # Number of unique notes\n",
        "    n_vocab_notes = len(set(notes))\n",
        "    n_vocab_durations = len(set(durations))\n",
        "    \n",
        "    notes_input, notes_output, durations_input, durations_output = preprocess_sequence(notes, durations, n_vocab_notes, n_vocab_durations)\n",
        "    \n",
        "    model = create_model_functional(notes_input, durations_input, n_vocab_notes, n_vocab_durations)\n",
        "    model.summary()\n",
        "    train(model, [notes_input, durations_input], [notes_output, durations_output])\n",
        "    "
      ],
      "execution_count": 43,
      "outputs": []
    },
    {
      "cell_type": "code",
      "metadata": {
        "id": "puapcaKXXaWm"
      },
      "source": [
        "def train(model, inputs, outputs):\n",
        "    notes_input, durations_input = inputs\n",
        "    notes_output, durations_output = outputs\n",
        "    \n",
        "    filepath = './weights_bilstm_bilstm_lstm/weights-{epoch:02d}-{loss:.4f}.hdf5'\n",
        "    checkpoint = keras.callbacks.ModelCheckpoint(filepath, save_freq=2130, monitor='loss', save_best_only=True, mode='min', verbose=1)\n",
        "    \n",
        "    callbacks_list = [checkpoint]\n",
        "    \n",
        "    model.fit(inputs, outputs, epochs=70, batch_size=64, callbacks=callbacks_list, verbose=1)"
      ],
      "execution_count": 44,
      "outputs": []
    },
    {
      "cell_type": "code",
      "metadata": {
        "colab": {
          "base_uri": "https://localhost:8080/"
        },
        "id": "gIJLtRcVXaWn",
        "outputId": "7badecde-91bf-4514-d33a-2f6261b19e4e"
      },
      "source": [
        "train_network()"
      ],
      "execution_count": 45,
      "outputs": [
        {
          "output_type": "stream",
          "name": "stdout",
          "text": [
            "Parsing yt5s.com+-+____+________+-+______+____+_______+(128+kbps).midi...\n",
            "Parsing yt5s.com+-+____+________+-+______+______+(128+kbps).midi...\n",
            "Model: \"model_2\"\n",
            "__________________________________________________________________________________________________\n",
            "Layer (type)                    Output Shape         Param #     Connected to                     \n",
            "==================================================================================================\n",
            "input_5 (InputLayer)            [(None, 32, 1)]      0                                            \n",
            "__________________________________________________________________________________________________\n",
            "input_6 (InputLayer)            [(None, 32, 1)]      0                                            \n",
            "__________________________________________________________________________________________________\n",
            "concatenate_2 (Concatenate)     (None, 32, 2)        0           input_5[0][0]                    \n",
            "                                                                 input_6[0][0]                    \n",
            "__________________________________________________________________________________________________\n",
            "bidirectional_4 (Bidirectional) (None, 32, 1024)     2109440     concatenate_2[0][0]              \n",
            "__________________________________________________________________________________________________\n",
            "dropout_6 (Dropout)             (None, 32, 1024)     0           bidirectional_4[0][0]            \n",
            "__________________________________________________________________________________________________\n",
            "bidirectional_5 (Bidirectional) (None, 32, 1024)     6295552     dropout_6[0][0]                  \n",
            "__________________________________________________________________________________________________\n",
            "dropout_7 (Dropout)             (None, 32, 1024)     0           bidirectional_5[0][0]            \n",
            "__________________________________________________________________________________________________\n",
            "lstm_8 (LSTM)                   (None, 512)          3147776     dropout_7[0][0]                  \n",
            "__________________________________________________________________________________________________\n",
            "dropout_8 (Dropout)             (None, 512)          0           lstm_8[0][0]                     \n",
            "__________________________________________________________________________________________________\n",
            "notes (Dense)                   (None, 796)          408348      dropout_8[0][0]                  \n",
            "__________________________________________________________________________________________________\n",
            "durations (Dense)               (None, 72)           36936       dropout_8[0][0]                  \n",
            "==================================================================================================\n",
            "Total params: 11,998,052\n",
            "Trainable params: 11,998,052\n",
            "Non-trainable params: 0\n",
            "__________________________________________________________________________________________________\n",
            "Epoch 1/70\n",
            "282/282 [==============================] - 51s 148ms/step - loss: 6.9603 - notes_loss: 5.3061 - durations_loss: 1.6542 - notes_accuracy: 0.0248 - durations_accuracy: 0.4473\n",
            "Epoch 2/70\n",
            "282/282 [==============================] - 42s 151ms/step - loss: 6.7836 - notes_loss: 5.2105 - durations_loss: 1.5731 - notes_accuracy: 0.0274 - durations_accuracy: 0.4692\n",
            "Epoch 3/70\n",
            "282/282 [==============================] - 43s 152ms/step - loss: 6.7715 - notes_loss: 5.2007 - durations_loss: 1.5708 - notes_accuracy: 0.0287 - durations_accuracy: 0.4692\n",
            "Epoch 4/70\n",
            "282/282 [==============================] - 42s 150ms/step - loss: 6.7679 - notes_loss: 5.1987 - durations_loss: 1.5692 - notes_accuracy: 0.0272 - durations_accuracy: 0.4692\n",
            "Epoch 5/70\n",
            "282/282 [==============================] - 43s 152ms/step - loss: 7.2991 - notes_loss: 5.4123 - durations_loss: 1.8869 - notes_accuracy: 0.0275 - durations_accuracy: 0.4647\n",
            "Epoch 6/70\n",
            "282/282 [==============================] - 43s 152ms/step - loss: 7.1125 - notes_loss: 5.3383 - durations_loss: 1.7743 - notes_accuracy: 0.0265 - durations_accuracy: 0.4616\n",
            "Epoch 7/70\n",
            "282/282 [==============================] - 42s 151ms/step - loss: 6.7617 - notes_loss: 5.1941 - durations_loss: 1.5677 - notes_accuracy: 0.0279 - durations_accuracy: 0.4692\n",
            "Epoch 8/70\n",
            "156/282 [===============>..............] - ETA: 18s - loss: 6.7372 - notes_loss: 5.1779 - durations_loss: 1.5593 - notes_accuracy: 0.0249 - durations_accuracy: 0.4732\n",
            "Epoch 00008: loss improved from inf to 6.73720, saving model to ./weights_bilstm_bilstm_lstm/weights-08-6.7372.hdf5\n",
            "282/282 [==============================] - 42s 149ms/step - loss: 6.7570 - notes_loss: 5.1890 - durations_loss: 1.5680 - notes_accuracy: 0.0280 - durations_accuracy: 0.4692\n",
            "Epoch 9/70\n",
            "282/282 [==============================] - 42s 148ms/step - loss: 6.7542 - notes_loss: 5.1867 - durations_loss: 1.5675 - notes_accuracy: 0.0289 - durations_accuracy: 0.4692\n",
            "Epoch 10/70\n",
            "282/282 [==============================] - 42s 147ms/step - loss: 6.7512 - notes_loss: 5.1846 - durations_loss: 1.5666 - notes_accuracy: 0.0289 - durations_accuracy: 0.4692\n",
            "Epoch 11/70\n",
            "282/282 [==============================] - 42s 150ms/step - loss: 6.7487 - notes_loss: 5.1824 - durations_loss: 1.5663 - notes_accuracy: 0.0284 - durations_accuracy: 0.4692\n",
            "Epoch 12/70\n",
            "282/282 [==============================] - 42s 148ms/step - loss: 6.7493 - notes_loss: 5.1829 - durations_loss: 1.5664 - notes_accuracy: 0.0288 - durations_accuracy: 0.4692\n",
            "Epoch 13/70\n",
            "282/282 [==============================] - 43s 151ms/step - loss: 6.7482 - notes_loss: 5.1839 - durations_loss: 1.5643 - notes_accuracy: 0.0289 - durations_accuracy: 0.4692\n",
            "Epoch 14/70\n",
            "282/282 [==============================] - 42s 147ms/step - loss: 6.7464 - notes_loss: 5.1825 - durations_loss: 1.5639 - notes_accuracy: 0.0287 - durations_accuracy: 0.4692\n",
            "Epoch 15/70\n",
            "282/282 [==============================] - 42s 149ms/step - loss: 6.7426 - notes_loss: 5.1791 - durations_loss: 1.5634 - notes_accuracy: 0.0294 - durations_accuracy: 0.4692\n",
            "Epoch 16/70\n",
            " 30/282 [==>...........................] - ETA: 38s - loss: 6.7108 - notes_loss: 5.1485 - durations_loss: 1.5623 - notes_accuracy: 0.0286 - durations_accuracy: 0.4599\n",
            "Epoch 00016: loss improved from 6.73720 to 6.71081, saving model to ./weights_bilstm_bilstm_lstm/weights-16-6.7108.hdf5\n",
            "282/282 [==============================] - 43s 153ms/step - loss: 6.7441 - notes_loss: 5.1811 - durations_loss: 1.5631 - notes_accuracy: 0.0289 - durations_accuracy: 0.4692\n",
            "Epoch 17/70\n",
            "282/282 [==============================] - 43s 151ms/step - loss: 6.7425 - notes_loss: 5.1780 - durations_loss: 1.5645 - notes_accuracy: 0.0291 - durations_accuracy: 0.4692\n",
            "Epoch 18/70\n",
            "282/282 [==============================] - 39s 138ms/step - loss: 6.7398 - notes_loss: 5.1766 - durations_loss: 1.5633 - notes_accuracy: 0.0294 - durations_accuracy: 0.4692\n",
            "Epoch 19/70\n",
            "282/282 [==============================] - 37s 131ms/step - loss: 6.7365 - notes_loss: 5.1739 - durations_loss: 1.5625 - notes_accuracy: 0.0289 - durations_accuracy: 0.4692\n",
            "Epoch 20/70\n",
            "282/282 [==============================] - 43s 153ms/step - loss: 6.7364 - notes_loss: 5.1734 - durations_loss: 1.5631 - notes_accuracy: 0.0286 - durations_accuracy: 0.4692\n",
            "Epoch 21/70\n",
            "282/282 [==============================] - 43s 151ms/step - loss: 6.7347 - notes_loss: 5.1727 - durations_loss: 1.5620 - notes_accuracy: 0.0298 - durations_accuracy: 0.4692\n",
            "Epoch 22/70\n",
            "282/282 [==============================] - 42s 150ms/step - loss: 6.7331 - notes_loss: 5.1721 - durations_loss: 1.5610 - notes_accuracy: 0.0292 - durations_accuracy: 0.4692\n",
            "Epoch 23/70\n",
            "186/282 [==================>...........] - ETA: 13s - loss: 6.7335 - notes_loss: 5.1743 - durations_loss: 1.5593 - notes_accuracy: 0.0272 - durations_accuracy: 0.4709\n",
            "Epoch 00023: loss did not improve from 6.71081\n",
            "282/282 [==============================] - 40s 140ms/step - loss: 6.7322 - notes_loss: 5.1705 - durations_loss: 1.5617 - notes_accuracy: 0.0278 - durations_accuracy: 0.4692\n",
            "Epoch 24/70\n",
            "282/282 [==============================] - 40s 142ms/step - loss: 6.7315 - notes_loss: 5.1693 - durations_loss: 1.5623 - notes_accuracy: 0.0288 - durations_accuracy: 0.4692\n",
            "Epoch 25/70\n",
            "282/282 [==============================] - 42s 149ms/step - loss: 6.7302 - notes_loss: 5.1686 - durations_loss: 1.5616 - notes_accuracy: 0.0293 - durations_accuracy: 0.4692\n",
            "Epoch 26/70\n",
            "282/282 [==============================] - 42s 150ms/step - loss: 6.7262 - notes_loss: 5.1646 - durations_loss: 1.5616 - notes_accuracy: 0.0286 - durations_accuracy: 0.4692\n",
            "Epoch 27/70\n",
            "282/282 [==============================] - 42s 150ms/step - loss: 6.7258 - notes_loss: 5.1645 - durations_loss: 1.5613 - notes_accuracy: 0.0287 - durations_accuracy: 0.4692\n",
            "Epoch 28/70\n",
            "282/282 [==============================] - 41s 144ms/step - loss: 6.7262 - notes_loss: 5.1655 - durations_loss: 1.5607 - notes_accuracy: 0.0278 - durations_accuracy: 0.4692\n",
            "Epoch 29/70\n",
            "282/282 [==============================] - 43s 151ms/step - loss: 6.7259 - notes_loss: 5.1655 - durations_loss: 1.5604 - notes_accuracy: 0.0283 - durations_accuracy: 0.4692\n",
            "Epoch 30/70\n",
            "282/282 [==============================] - 43s 151ms/step - loss: 6.7247 - notes_loss: 5.1634 - durations_loss: 1.5613 - notes_accuracy: 0.0278 - durations_accuracy: 0.4692\n",
            "Epoch 31/70\n",
            " 60/282 [=====>........................] - ETA: 32s - loss: 6.7246 - notes_loss: 5.1436 - durations_loss: 1.5810 - notes_accuracy: 0.0331 - durations_accuracy: 0.4693\n",
            "Epoch 00031: loss did not improve from 6.71081\n",
            "282/282 [==============================] - 42s 148ms/step - loss: 6.7230 - notes_loss: 5.1629 - durations_loss: 1.5601 - notes_accuracy: 0.0287 - durations_accuracy: 0.4692\n",
            "Epoch 32/70\n",
            "282/282 [==============================] - 42s 148ms/step - loss: 6.7210 - notes_loss: 5.1610 - durations_loss: 1.5600 - notes_accuracy: 0.0283 - durations_accuracy: 0.4692\n",
            "Epoch 33/70\n",
            "282/282 [==============================] - 41s 147ms/step - loss: 6.7203 - notes_loss: 5.1606 - durations_loss: 1.5596 - notes_accuracy: 0.0277 - durations_accuracy: 0.4692\n",
            "Epoch 34/70\n",
            "282/282 [==============================] - 42s 149ms/step - loss: 6.7191 - notes_loss: 5.1599 - durations_loss: 1.5592 - notes_accuracy: 0.0286 - durations_accuracy: 0.4692\n",
            "Epoch 35/70\n",
            "282/282 [==============================] - 42s 149ms/step - loss: 6.7203 - notes_loss: 5.1608 - durations_loss: 1.5595 - notes_accuracy: 0.0278 - durations_accuracy: 0.4692\n",
            "Epoch 36/70\n",
            "282/282 [==============================] - 42s 148ms/step - loss: 6.7176 - notes_loss: 5.1587 - durations_loss: 1.5589 - notes_accuracy: 0.0279 - durations_accuracy: 0.4692\n",
            "Epoch 37/70\n",
            "282/282 [==============================] - 41s 145ms/step - loss: 6.7177 - notes_loss: 5.1582 - durations_loss: 1.5595 - notes_accuracy: 0.0285 - durations_accuracy: 0.4692\n",
            "Epoch 38/70\n",
            "216/282 [=====================>........] - ETA: 9s - loss: 6.7142 - notes_loss: 5.1585 - durations_loss: 1.5558 - notes_accuracy: 0.0260 - durations_accuracy: 0.4697 \n",
            "Epoch 00038: loss did not improve from 6.71081\n",
            "282/282 [==============================] - 42s 148ms/step - loss: 6.7218 - notes_loss: 5.1617 - durations_loss: 1.5600 - notes_accuracy: 0.0267 - durations_accuracy: 0.4692\n",
            "Epoch 39/70\n",
            "282/282 [==============================] - 42s 148ms/step - loss: 6.7198 - notes_loss: 5.1609 - durations_loss: 1.5590 - notes_accuracy: 0.0282 - durations_accuracy: 0.4692\n",
            "Epoch 40/70\n",
            "282/282 [==============================] - 42s 148ms/step - loss: 6.7217 - notes_loss: 5.1617 - durations_loss: 1.5600 - notes_accuracy: 0.0276 - durations_accuracy: 0.4692\n",
            "Epoch 41/70\n",
            "282/282 [==============================] - 41s 147ms/step - loss: 6.7209 - notes_loss: 5.1603 - durations_loss: 1.5606 - notes_accuracy: 0.0264 - durations_accuracy: 0.4692\n",
            "Epoch 42/70\n",
            "282/282 [==============================] - 41s 146ms/step - loss: 6.7227 - notes_loss: 5.1624 - durations_loss: 1.5602 - notes_accuracy: 0.0273 - durations_accuracy: 0.4692\n",
            "Epoch 43/70\n",
            "282/282 [==============================] - 40s 141ms/step - loss: 6.7205 - notes_loss: 5.1596 - durations_loss: 1.5610 - notes_accuracy: 0.0277 - durations_accuracy: 0.4692\n",
            "Epoch 44/70\n",
            "282/282 [==============================] - 38s 136ms/step - loss: 6.7256 - notes_loss: 5.1644 - durations_loss: 1.5612 - notes_accuracy: 0.0274 - durations_accuracy: 0.4692\n",
            "Epoch 45/70\n",
            "282/282 [==============================] - 41s 145ms/step - loss: 6.7278 - notes_loss: 5.1654 - durations_loss: 1.5624 - notes_accuracy: 0.0266 - durations_accuracy: 0.4692\n",
            "Epoch 46/70\n",
            " 90/282 [========>.....................] - ETA: 28s - loss: 6.7164 - notes_loss: 5.1697 - durations_loss: 1.5467 - notes_accuracy: 0.0241 - durations_accuracy: 0.4788\n",
            "Epoch 00046: loss did not improve from 6.71081\n",
            "282/282 [==============================] - 41s 146ms/step - loss: 6.7285 - notes_loss: 5.1651 - durations_loss: 1.5635 - notes_accuracy: 0.0271 - durations_accuracy: 0.4692\n",
            "Epoch 47/70\n",
            "282/282 [==============================] - 42s 148ms/step - loss: 6.7272 - notes_loss: 5.1660 - durations_loss: 1.5611 - notes_accuracy: 0.0267 - durations_accuracy: 0.4692\n",
            "Epoch 48/70\n",
            "282/282 [==============================] - 41s 146ms/step - loss: 6.7298 - notes_loss: 5.1677 - durations_loss: 1.5622 - notes_accuracy: 0.0275 - durations_accuracy: 0.4692\n",
            "Epoch 49/70\n",
            "282/282 [==============================] - 42s 148ms/step - loss: 6.7296 - notes_loss: 5.1680 - durations_loss: 1.5616 - notes_accuracy: 0.0287 - durations_accuracy: 0.4692\n",
            "Epoch 50/70\n",
            "282/282 [==============================] - 41s 146ms/step - loss: 6.7301 - notes_loss: 5.1675 - durations_loss: 1.5626 - notes_accuracy: 0.0287 - durations_accuracy: 0.4692\n",
            "Epoch 51/70\n",
            "282/282 [==============================] - 37s 131ms/step - loss: 6.7323 - notes_loss: 5.1697 - durations_loss: 1.5627 - notes_accuracy: 0.0290 - durations_accuracy: 0.4692\n",
            "Epoch 52/70\n",
            "282/282 [==============================] - 37s 130ms/step - loss: 6.7326 - notes_loss: 5.1688 - durations_loss: 1.5637 - notes_accuracy: 0.0281 - durations_accuracy: 0.4692\n",
            "Epoch 53/70\n",
            "246/282 [=========================>....] - ETA: 4s - loss: 6.7342 - notes_loss: 5.1756 - durations_loss: 1.5587 - notes_accuracy: 0.0284 - durations_accuracy: 0.4705\n",
            "Epoch 00053: loss did not improve from 6.71081\n",
            "282/282 [==============================] - 37s 130ms/step - loss: 6.7386 - notes_loss: 5.1757 - durations_loss: 1.5629 - notes_accuracy: 0.0279 - durations_accuracy: 0.4691\n",
            "Epoch 54/70\n",
            "282/282 [==============================] - 37s 130ms/step - loss: 6.7514 - notes_loss: 5.1873 - durations_loss: 1.5641 - notes_accuracy: 0.0272 - durations_accuracy: 0.4692\n",
            "Epoch 55/70\n",
            "282/282 [==============================] - 37s 130ms/step - loss: 6.7564 - notes_loss: 5.1934 - durations_loss: 1.5630 - notes_accuracy: 0.0273 - durations_accuracy: 0.4691\n",
            "Epoch 56/70\n",
            "282/282 [==============================] - 37s 131ms/step - loss: 6.7593 - notes_loss: 5.1954 - durations_loss: 1.5638 - notes_accuracy: 0.0285 - durations_accuracy: 0.4692\n",
            "Epoch 57/70\n",
            "282/282 [==============================] - 36s 129ms/step - loss: 6.7636 - notes_loss: 5.1983 - durations_loss: 1.5653 - notes_accuracy: 0.0290 - durations_accuracy: 0.4692\n",
            "Epoch 58/70\n",
            "282/282 [==============================] - 36s 129ms/step - loss: 6.7639 - notes_loss: 5.1980 - durations_loss: 1.5659 - notes_accuracy: 0.0290 - durations_accuracy: 0.4690\n",
            "Epoch 59/70\n",
            "282/282 [==============================] - 36s 129ms/step - loss: 6.7558 - notes_loss: 5.1897 - durations_loss: 1.5661 - notes_accuracy: 0.0282 - durations_accuracy: 0.4690\n",
            "Epoch 60/70\n",
            "282/282 [==============================] - 37s 130ms/step - loss: 6.7629 - notes_loss: 5.1955 - durations_loss: 1.5674 - notes_accuracy: 0.0273 - durations_accuracy: 0.4691\n",
            "Epoch 61/70\n",
            "120/282 [===========>..................] - ETA: 20s - loss: 6.7461 - notes_loss: 5.1802 - durations_loss: 1.5659 - notes_accuracy: 0.0309 - durations_accuracy: 0.4684\n",
            "Epoch 00061: loss did not improve from 6.71081\n",
            "282/282 [==============================] - 36s 129ms/step - loss: 6.7676 - notes_loss: 5.2030 - durations_loss: 1.5646 - notes_accuracy: 0.0291 - durations_accuracy: 0.4692\n",
            "Epoch 62/70\n",
            "282/282 [==============================] - 36s 129ms/step - loss: 6.7743 - notes_loss: 5.2085 - durations_loss: 1.5658 - notes_accuracy: 0.0287 - durations_accuracy: 0.4692\n",
            "Epoch 63/70\n",
            "282/282 [==============================] - 37s 130ms/step - loss: 6.7725 - notes_loss: 5.2045 - durations_loss: 1.5681 - notes_accuracy: 0.0265 - durations_accuracy: 0.4692\n",
            "Epoch 64/70\n",
            "282/282 [==============================] - 37s 130ms/step - loss: 6.7668 - notes_loss: 5.1969 - durations_loss: 1.5699 - notes_accuracy: 0.0289 - durations_accuracy: 0.4691\n",
            "Epoch 65/70\n",
            "282/282 [==============================] - 37s 130ms/step - loss: 6.7706 - notes_loss: 5.2005 - durations_loss: 1.5702 - notes_accuracy: 0.0285 - durations_accuracy: 0.4692\n",
            "Epoch 66/70\n",
            "282/282 [==============================] - 37s 130ms/step - loss: 6.7789 - notes_loss: 5.2088 - durations_loss: 1.5702 - notes_accuracy: 0.0290 - durations_accuracy: 0.4692\n",
            "Epoch 67/70\n",
            "282/282 [==============================] - 37s 130ms/step - loss: 6.7888 - notes_loss: 5.2196 - durations_loss: 1.5693 - notes_accuracy: 0.0275 - durations_accuracy: 0.4691\n",
            "Epoch 68/70\n",
            "276/282 [============================>.] - ETA: 0s - loss: 6.7889 - notes_loss: 5.2198 - durations_loss: 1.5692 - notes_accuracy: 0.0284 - durations_accuracy: 0.4692\n",
            "Epoch 00068: loss did not improve from 6.71081\n",
            "282/282 [==============================] - 37s 130ms/step - loss: 6.7863 - notes_loss: 5.2175 - durations_loss: 1.5688 - notes_accuracy: 0.0284 - durations_accuracy: 0.4691\n",
            "Epoch 69/70\n",
            "282/282 [==============================] - 36s 129ms/step - loss: 6.7910 - notes_loss: 5.2197 - durations_loss: 1.5713 - notes_accuracy: 0.0282 - durations_accuracy: 0.4686\n",
            "Epoch 70/70\n",
            "282/282 [==============================] - 37s 130ms/step - loss: 6.7999 - notes_loss: 5.2292 - durations_loss: 1.5706 - notes_accuracy: 0.0288 - durations_accuracy: 0.4688\n"
          ]
        }
      ]
    },
    {
      "cell_type": "code",
      "metadata": {
        "id": "p7qB6MuCXaWp"
      },
      "source": [
        "def get_weights():\n",
        "    filepath = \"/content/drive/MyDrive/ai/weights_bilstm_bilstm_lstm/\"\n",
        "    weight_path = sorted([filepath+f for f in os.listdir(filepath)])\n",
        "    return weight_path[-1]"
      ],
      "execution_count": 78,
      "outputs": []
    },
    {
      "cell_type": "code",
      "metadata": {
        "id": "Am4X_ct_XaWq"
      },
      "source": [
        "def prepare_predict_sequences(notes, durations, pitchnames, unique_durations, n_notes, n_durations):\n",
        "    note_to_int = dict((note, ix) for ix, note in enumerate(pitchnames))\n",
        "    duration_to_int = dict((dur, ix) for ix, dur in enumerate(unique_durations))\n",
        "    \n",
        "    sequence_length = 100\n",
        "    notes_input = []\n",
        "    durations_input = []\n",
        "    \n",
        "    for i in range(len(notes) - sequence_length):\n",
        "        note_sequence_in = notes[i:i+sequence_length]\n",
        "        duration_sequence_in = durations[i:i+sequence_length]\n",
        "        notes_input.append([note_to_int[c] for c in note_sequence_in])\n",
        "        durations_input.append([duration_to_int[c] for c in duration_sequence_in])\n",
        "        \n",
        "    n_samples = len(notes_input)\n",
        "    \n",
        "    normalized_notes = np.reshape(notes_input, (n_samples, sequence_length, 1))\n",
        "    normalized_notes = normalized_notes / float(n_notes)\n",
        "    \n",
        "    normalized_durations = np.reshape(durations_input, (n_samples, sequence_length, 1))\n",
        "    normalized_durations = normalized_durations / float(n_durations)\n",
        "    \n",
        "    return notes_input, normalized_notes, durations_input, normalized_durations"
      ],
      "execution_count": 47,
      "outputs": []
    },
    {
      "cell_type": "code",
      "metadata": {
        "id": "dJGSylCAXaWq"
      },
      "source": [
        "def generate_notes(model, notes, durations, pitchnames, unique_durations):\n",
        "    int_to_note = dict((ix, note) for ix, note in enumerate(pitchnames))\n",
        "    int_to_duration = dict((ix, dur) for ix, dur in enumerate(unique_durations))\n",
        "    \n",
        "    start_note = np.random.randint(0, len(notes) - 1)\n",
        "    start_duration = np.random.randint(0, len(durations) - 1)\n",
        "    \n",
        "    n_notes = len(pitchnames)\n",
        "    n_durations = len(unique_durations)\n",
        "    \n",
        "    pattern_note = notes[start_note]\n",
        "    pattern_duration = durations[start_duration]\n",
        "    \n",
        "    note_output = []\n",
        "    duration_output = []\n",
        "    \n",
        "    for note_index in range(500):\n",
        "        notes_input = np.reshape(pattern_note, (1, len(pattern_note), 1))\n",
        "        notes_input = notes_input / n_notes\n",
        "        \n",
        "        durations_input = np.reshape(pattern_duration, (1, len(pattern_duration), 1))\n",
        "        durations_input = durations_input / n_durations\n",
        "        \n",
        "        pred_note, pred_duration = model.predict([notes_input, durations_input], verbose=0)\n",
        "        \n",
        "        index_note = np.argmax(pred_note)\n",
        "        index_duration = np.argmax(pred_duration)\n",
        "        \n",
        "        note_result = int_to_note[index_note]\n",
        "        duration_result = int_to_duration[index_duration]\n",
        "        \n",
        "        note_output.append(note_result)\n",
        "        duration_output.append(duration_result)\n",
        "        \n",
        "        pattern_note.append(index_note)\n",
        "        pattern_duration.append(index_duration)\n",
        "        \n",
        "        pattern_note = pattern_note[1:len(pattern_note)]\n",
        "        pattern_duration = pattern_duration[1:len(pattern_duration)]\n",
        "        \n",
        "    return note_output, duration_output"
      ],
      "execution_count": 48,
      "outputs": []
    },
    {
      "cell_type": "code",
      "metadata": {
        "id": "Lu_XqlxuXaWr"
      },
      "source": [
        "def check_duration(duration):\n",
        "    try:\n",
        "        duration = float(duration)\n",
        "    except:\n",
        "        s = duration.split('/')\n",
        "        num = s[0]\n",
        "        denom = s[1]\n",
        "        duration = float(num) / float(denom)\n",
        "        \n",
        "    return duration"
      ],
      "execution_count": 49,
      "outputs": []
    },
    {
      "cell_type": "code",
      "metadata": {
        "id": "zLf_W5J3XaWs"
      },
      "source": [
        "def create_midi(prediction_output):\n",
        "    notes_pred, durations_pred = prediction_output\n",
        "    \n",
        "    offset = 0\n",
        "    output_notes = []\n",
        "    \n",
        "    for idx, pattern in enumerate(notes_pred):\n",
        "        # if pattern is a chord\n",
        "        if '.' in pattern or pattern.isdigit():\n",
        "            notes_in_chord = pattern.split('.')\n",
        "            notes = []\n",
        "            for chord_note in notes_in_chord:\n",
        "                new_note = note.Note(int(chord_note))\n",
        "                new_note.storedInstrument = instrument.Piano()\n",
        "                notes.append(new_note)\n",
        "            \n",
        "            new_chord = chord.Chord(notes)\n",
        "            new_chord.offset = offset\n",
        "            output_notes.append(new_chord)\n",
        "        \n",
        "        # if pattern is a rest\n",
        "        elif 'rest' in pattern:\n",
        "            new_rest = note.Rest(pattern)\n",
        "            new_rest.offset = offset\n",
        "            new_rest.storedInstrument = instrument.Piano()\n",
        "            output_notes.append(new_rest)\n",
        "            \n",
        "        # if pattern is a note\n",
        "        else:\n",
        "            new_note = note.Note(pattern)\n",
        "            new_note.storedInstrument = instrument.Piano()\n",
        "            new_note.offset = offset\n",
        "            output_notes.append(new_note)\n",
        "            \n",
        "        offset += check_duration(durations_pred[idx])\n",
        "        \n",
        "    midi_stream = stream.Stream(output_notes)\n",
        "    \n",
        "    midi_stream.write('midi', fp='output_midi_2bilstm_lstm_60_5.mid')"
      ],
      "execution_count": 50,
      "outputs": []
    },
    {
      "cell_type": "code",
      "metadata": {
        "id": "PkHy3POSXaWs"
      },
      "source": [
        "# Sample the progress using predictions to create simple musical pieces\n",
        "def predict():\n",
        "    with open('/content/drive/MyDrive/ai/LSTM-Music-Generation-master/models/mix/data/notes', 'rb') as filepath:\n",
        "        notes = pickle.load(filepath)\n",
        "        \n",
        "    with open('/content/drive/MyDrive/ai/LSTM-Music-Generation-master/models/mix/data/durations', 'rb') as filepath:\n",
        "        durations = pickle.load(filepath)\n",
        "    pitchnames = sorted(set(notes))\n",
        "    unique_durations = sorted(set(durations))\n",
        "    \n",
        "    n_notes = len(pitchnames)\n",
        "    n_durations = len(unique_durations)\n",
        "    \n",
        "    print(\"Getting weight path...\")\n",
        "    weight_path = get_weights()\n",
        "    \n",
        "    print(\"Preparing sequences for prediction...\")\n",
        "    notes_input, normalized_notes, durations_input, normalized_durations = prepare_predict_sequences(notes, durations, pitchnames, unique_durations, n_notes, n_durations)\n",
        "    \n",
        "    print(\"Creating model...\")\n",
        "    model = create_model_functional(normalized_notes, normalized_durations, n_notes, n_durations)\n",
        "    \n",
        "    # Load model weights\n",
        "    print(\"Loading weights...\")\n",
        "    model.load_weights(weight_path,by_name = True, skip_mismatch = True)\n",
        "    print(\"Generating notes...\")\n",
        "    prediction_output = generate_notes(model, notes_input, durations_input, pitchnames, unique_durations)\n",
        "    \n",
        "    print(\"Writing to midi...\")\n",
        "    create_midi(prediction_output)\n",
        "    "
      ],
      "execution_count": 97,
      "outputs": []
    },
    {
      "cell_type": "code",
      "metadata": {
        "colab": {
          "base_uri": "https://localhost:8080/"
        },
        "id": "svGVpWldXaWt",
        "outputId": "76f36748-4391-481f-894f-193d2547ba34"
      },
      "source": [
        "predict()"
      ],
      "execution_count": 98,
      "outputs": [
        {
          "output_type": "stream",
          "name": "stdout",
          "text": [
            "im here\n",
            "Getting weight path...\n",
            "hello\n",
            "hello\n",
            "Preparing sequences for prediction...\n",
            "Creating model...\n",
            "KerasTensor(type_spec=TensorSpec(shape=(None, 32, 1), dtype=tf.float32, name='input_39'), name='input_39', description=\"created by layer 'input_39'\")\n",
            "KerasTensor(type_spec=TensorSpec(shape=(None, 32, 1), dtype=tf.float32, name='input_40'), name='input_40', description=\"created by layer 'input_40'\")\n",
            "Loading weights...\n",
            "Generating notes...\n",
            "Writing to midi...\n"
          ]
        }
      ]
    },
    {
      "cell_type": "code",
      "metadata": {
        "colab": {
          "base_uri": "https://localhost:8080/",
          "height": 75
        },
        "id": "j-tw3rRSXaWu",
        "outputId": "cfcac59b-9264-4e6c-970b-7eab74343b93"
      },
      "source": [
        "\n",
        "display.Audio('/content/output_midi_2bilstm_lstm_60_5.mid')"
      ],
      "execution_count": 99,
      "outputs": [
        {
          "output_type": "execute_result",
          "data": {
            "text/html": [
              "\n",
              "                <audio controls=\"controls\" >\n",
              "                    <source src=\"data:audio/midi;base64,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\" type=\"audio/midi\" />\n",
              "                    Your browser does not support the audio element.\n",
              "                </audio>\n",
              "              "
            ],
            "text/plain": [
              "<IPython.lib.display.Audio object>"
            ]
          },
          "metadata": {},
          "execution_count": 99
        }
      ]
    },
    {
      "cell_type": "code",
      "metadata": {
        "colab": {
          "base_uri": "https://localhost:8080/",
          "height": 17
        },
        "id": "Hk2m-gDMXaWu",
        "outputId": "4514c075-d23e-4592-8fca-57af14a2e872"
      },
      "source": [
        "s = converter.parse(\"/content/output_midi_2bilstm_lstm_60_5.mid\")\n",
        "for p in s.parts:\n",
        "  p.insert(0,instrument.Lute())\n",
        "s.show('midi')"
      ],
      "execution_count": 96,
      "outputs": [
        {
          "output_type": "display_data",
          "data": {
            "text/html": [
              "\n",
              "                <div id='midiPlayerDiv318299'></div>\n",
              "                <link rel=\"stylesheet\" href=\"//cuthbertLab.github.io/music21j/css/m21.css\"\n",
              "                    type=\"text/css\" />\n",
              "                <script>\n",
              "                require.config({\n",
              "                    paths: {'music21': '//cuthbertLab.github.io/music21j/src/music21'}\n",
              "                });\n",
              "                require(['music21'], function() {\n",
              "                               mp = new music21.miditools.MidiPlayer();\n",
              "                               mp.addPlayer('#midiPlayerDiv318299');\n",
              "                               mp.base64Load('data:audio/midi;base64,TVRoZAAAAAYAAQABBABNVHJrAAAyEwD/AwRMdXRlAMAYAOAAQADAGACQR1oAkDxaAJA9WgCQP1oAkEJaAJBEWoQAgEcAAIA8AACAPQAAgD8AAIBCAACARACEAJBHWgCQPFoAkD1aAJA/WgCQQloAkERahACARwAAgDwAAIA9AACAPwAAgEIAAIBEAACQR1oAkDxaAJA9WgCQP1oAkEJaAJBEWoQAgEcAAIA8AACAPQAAgD8AAIBCAACARAAAkEdaAJA8WgCQPVoAkD9aAJBCWgCQRFqEAIBHAACAPAAAgD0AAIA/AACAQgAAgEQAAJBHWgCQPFoAkD1aAJA/WgCQQloAkERahACARwAAgDwAAIA9AACAPwAAgEIAAIBEAACQR1oAkDxaAJA9WgCQP1oAkEJaAJBEWoQAgEcAAIA8AACAPQAAgD8AAIBCAACARAAAkEdaAJA8WgCQPVoAkD9aAJBCWgCQRFqEAIBHAACAPAAAgD0AAIA/AACAQgAAgEQAAJBHWgCQPFoAkD1aAJA/WgCQQloAkERahACARwAAgDwAAIA9AACAPwAAgEIAAIBEAACQR1oAkDxaAJA9WgCQP1oAkEJaAJBEWoQAgEcAAIA8AACAPQAAgD8AAIBCAACARAAAkEdaAJA8WgCQPVoAkD9aAJBCWgCQRFqEAIBHAACAPAAAgD0AAIA/AACAQgAAgEQAAJBHWgCQPFoAkD1aAJA/WgCQQloAkERahACARwAAgDwAAIA9AACAPwAAgEIAAIBEAACQR1oAkDxaAJA9WgCQP1oAkEJaAJBEWoQAgEcAAIA8AACAPQAAgD8AAIBCAACARAAAkEdaAJA8WgCQPVoAkD9aAJBCWgCQRFqEAIBHAACAPAAAgD0AAIA/AACAQgAAgEQAAJBHWgCQPFoAkD1aAJA/WgCQQloAkERahACARwAAgDwAAIA9AACAPwAAgEIAAIBEAACQRloAkEdaAJBAWoQAgEYAAIBHAACAQAAAkEdahACARwAAkEZaAJBHWgCQQFqEAIBGAACARwAAgEAAAJBGWgCQR1oAkEBahACARgAAgEcAAIBAAACQRloAkEdaAJBAWoQAgEYAAIBHAACAQAAAkEZaAJBHWgCQQFqEAIBGAACARwAAgEAAAJBGWgCQR1oAkEBahACARgAAgEcAAIBAAACQRloAkEdaAJBAWoQAgEYAAIBHAACAQAAAkEZaAJBHWgCQQFqEAIBGAACARwAAgEAAAJBGWgCQR1oAkEBahACARgAAgEcAAIBAAACQRloAkEdaAJBAWoQAgEYAAIBHAACAQAAAkEZaAJBHWgCQQFqEAIBGAACARwAAgEAAAJBGWgCQR1oAkEBahACARgAAgEcAAIBAAACQRloAkEdaAJBAWoQAgEYAAIBHAACAQAAAkEZaAJBHWgCQQFqEAIBGAACARwAAgEAAAJBGWgCQR1oAkEBahACARgAAgEcAAIBAAACQRloAkEdaAJBAWoQAgEYAAIBHAACAQAAAkEZaAJBHWgCQQFqEAIBGAACARwAAgEAAAJBGWgCQR1oAkEBahACARgAAgEcAAIBAAACQRloAkEdaAJBAWoQAgEYAAIBHAACAQAAAkEZaAJBHWgCQQFqEAIBGAACARwAAgEAAAJBGWgCQR1oAkEBahACARgAAgEcAAIBAAACQRloAkEdaAJBAWoQAgEYAAIBHAACAQAAAkEZaAJBHWgCQQFqEAIBGAACARwAAgEAAAJBGWgCQR1oAkEBahACARgAAgEcAAIBAAACQRloAkEdaAJBAWoQAgEYAAIBHAACAQAAAkEZaAJBHWgCQQFqEAIBGAACARwAAgEAAAJBGWgCQR1oAkEBahACARgAAgEcAAIBAAACQRloAkEdaAJBAWoQAgEYAAIBHAACAQAAAkEZaAJBHWgCQQFqEAIBGAACARwAAgEAAAJBGWgCQR1oAkEBahACARgAAgEcAAIBAAACQRloAkEdaAJBAWoQAgEYAAIBHAACAQAAAkEZaAJBHWgCQQFqEAIBGAACARwAAgEAAAJBGWgCQR1oAkEBahACARgAAgEcAAIBAAACQRloAkEdaAJBAWoQAgEYAAIBHAACAQAAAkEZaAJBHWgCQQFqEAIBGAACARwAAgEAAAJBGWgCQR1oAkEBahACARgAAgEcAAIBAAACQRloAkEdaAJBAWoQAgEYAAIBHAACAQAAAkEZaAJBHWgCQQFqEAIBGAACARwAAgEAAAJBGWgCQR1oAkEBahACARgAAgEcAAIBAAACQRloAkEdaAJBAWoQAgEYAAIBHAACAQAAAkEZaAJBHWgCQQFqEAIBGAACARwAAgEAAAJBGWgCQR1oAkEBahACARgAAgEcAAIBAAACQRloAkEdaAJBAWoQAgEYAAIBHAACAQAAAkEZaAJBHWgCQQFqEAIBGAACARwAAgEAAAJBGWgCQR1oAkEBahACARgAAgEcAAIBAAACQRloAkEdaAJBAWoQAgEYAAIBHAACAQAAAkEZaAJBHWgCQQFqEAIBGAACARwAAgEAAAJBGWgCQR1oAkEBahACARgAAgEcAAIBAAACQRloAkEdaAJBAWoQAgEYAAIBHAACAQAAAkEZaAJBHWgCQQFqEAIBGAACARwAAgEAAAJBGWgCQR1oAkEBahACARgAAgEcAAIBAAACQRloAkEdaAJBAWoQAgEYAAIBHAACAQAAAkEZaAJBHWgCQQFqEAIBGAACARwAAgEAAAJBGWgCQR1oAkEBahACARgAAgEcAAIBAAACQRloAkEdaAJBAWoQAgEYAAIBHAACAQAAAkEZaAJBHWgCQQFqEAIBGAACARwAAgEAAAJBGWgCQR1oAkEBahACARgAAgEcAAIBAAACQRloAkEdaAJBAWoQAgEYAAIBHAACAQAAAkEZaAJBHWgCQQFqEAIBGAACARwAAgEAAAJBGWgCQR1oAkEBahACARgAAgEcAAIBAAACQRloAkEdaAJBAWoQAgEYAAIBHAACAQAAAkEZaAJBHWgCQQFqEAIBGAACARwAAgEAAAJBGWgCQR1oAkEBahACARgAAgEcAAIBAAACQRloAkEdaAJBAWoQAgEYAAIBHAACAQAAAkEZaAJBHWgCQQFqEAIBGAACARwAAgEAAAJBGWgCQR1oAkEBahACARgAAgEcAAIBAAACQRloAkEdaAJBAWoQAgEYAAIBHAACAQAAAkEZaAJBHWgCQQFqEAIBGAACARwAAgEAAAJBGWgCQR1oAkEBahACARgAAgEcAAIBAAACQRloAkEdaAJBAWoQAgEYAAIBHAACAQAAAkEZaAJBHWgCQQFqEAIBGAACARwAAgEAAAJBGWgCQR1oAkEBahACARgAAgEcAAIBAAACQRloAkEdaAJBAWoQAgEYAAIBHAACAQAAAkEZaAJBHWgCQQFqEAIBGAACARwAAgEAAAJBGWgCQR1oAkEBahACARgAAgEcAAIBAAACQRloAkEdaAJBAWoQAgEYAAIBHAACAQAAAkEZaAJBHWgCQQFqEAIBGAACARwAAgEAAAJBGWgCQR1oAkEBahACARgAAgEcAAIBAAACQRloAkEdaAJBAWoQAgEYAAIBHAACAQAAAkEZaAJBHWgCQQFqEAIBGAACARwAAgEAAAJBGWgCQR1oAkEBahACARgAAgEcAAIBAAACQRloAkEdaAJBAWoQAgEYAAIBHAACAQAAAkEZaAJBHWgCQQFqEAIBGAACARwAAgEAAAJBGWgCQR1oAkEBahACARgAAgEcAAIBAAACQRloAkEdaAJBAWoQAgEYAAIBHAACAQAAAkEZaAJBHWgCQQFqEAIBGAACARwAAgEAAAJBGWgCQR1oAkEBahACARgAAgEcAAIBAAACQRloAkEdaAJBAWoQAgEYAAIBHAACAQAAAkEZaAJBHWgCQQFqEAIBGAACARwAAgEAAAJBGWgCQR1oAkEBahACARgAAgEcAAIBAAACQRloAkEdaAJBAWoQAgEYAAIBHAACAQAAAkEZaAJBHWgCQQFqEAIBGAACARwAAgEAAAJBGWgCQR1oAkEBahACARgAAgEcAAIBAAACQRloAkEdaAJBAWoQAgEYAAIBHAACAQAAAkEZaAJBHWgCQQFqEAIBGAACARwAAgEAAAJBGWgCQR1oAkEBahACARgAAgEcAAIBAAACQRloAkEdaAJBAWoQAgEYAAIBHAACAQAAAkEZaAJBHWgCQQFqEAIBGAACARwAAgEAAAJBGWgCQR1oAkEBahACARgAAgEcAAIBAAACQRloAkEdaAJBAWoQAgEYAAIBHAACAQAAAkEZaAJBHWgCQQFqEAIBGAACARwAAgEAAAJBGWgCQR1oAkEBahACARgAAgEcAAIBAAACQRloAkEdaAJBAWoQAgEYAAIBHAACAQAAAkEZaAJBHWgCQQFqEAIBGAACARwAAgEAAAJBGWgCQR1oAkEBahACARgAAgEcAAIBAAACQRloAkEdaAJBAWoQAgEYAAIBHAACAQAAAkEZaAJBHWgCQQFqEAIBGAACARwAAgEAAAJBGWgCQR1oAkEBahACARgAAgEcAAIBAAACQRloAkEdaAJBAWoQAgEYAAIBHAACAQAAAkEZaAJBHWgCQQFqEAIBGAACARwAAgEAAAJBGWgCQR1oAkEBahACARgAAgEcAAIBAAACQRloAkEdaAJBAWoQAgEYAAIBHAACAQAAAkEZaAJBHWgCQQFqEAIBGAACARwAAgEAAAJBGWgCQR1oAkEBahACARgAAgEcAAIBAAACQRloAkEdaAJBAWoQAgEYAAIBHAACAQAAAkEZaAJBHWgCQQFqEAIBGAACARwAAgEAAAJBGWgCQR1oAkEBahACARgAAgEcAAIBAAACQRloAkEdaAJBAWoQAgEYAAIBHAACAQAAAkEZaAJBHWgCQQFqEAIBGAACARwAAgEAAAJBGWgCQR1oAkEBahACARgAAgEcAAIBAAACQRloAkEdaAJBAWoQAgEYAAIBHAACAQAAAkEZaAJBHWgCQQFqEAIBGAACARwAAgEAAAJBGWgCQR1oAkEBahACARgAAgEcAAIBAAACQRloAkEdaAJBAWoQAgEYAAIBHAACAQAAAkEZaAJBHWgCQQFqEAIBGAACARwAAgEAAAJBGWgCQR1oAkEBahACARgAAgEcAAIBAAACQRloAkEdaAJBAWoQAgEYAAIBHAACAQAAAkEZaAJBHWgCQQFqEAIBGAACARwAAgEAAAJBGWgCQR1oAkEBahACARgAAgEcAAIBAAACQRloAkEdaAJBAWoQAgEYAAIBHAACAQAAAkEZaAJBHWgCQQFqEAIBGAACARwAAgEAAAJBGWgCQR1oAkEBahACARgAAgEcAAIBAAACQRloAkEdaAJBAWoQAgEYAAIBHAACAQAAAkEZaAJBHWgCQQFqEAIBGAACARwAAgEAAAJBGWgCQR1oAkEBahACARgAAgEcAAIBAAACQRloAkEdaAJBAWoQAgEYAAIBHAACAQAAAkEZaAJBHWgCQQFqEAIBGAACARwAAgEAAAJBGWgCQR1oAkEBahACARgAAgEcAAIBAAACQRloAkEdaAJBAWoQAgEYAAIBHAACAQAAAkEZaAJBHWgCQQFqEAIBGAACARwAAgEAAAJBGWgCQR1oAkEBahACARgAAgEcAAIBAAACQRloAkEdaAJBAWoQAgEYAAIBHAACAQAAAkEZaAJBHWgCQQFqEAIBGAACARwAAgEAAAJBGWgCQR1oAkEBahACARgAAgEcAAIBAAACQRloAkEdaAJBAWoQAgEYAAIBHAACAQAAAkEZaAJBHWgCQQFqEAIBGAACARwAAgEAAAJBGWgCQR1oAkEBahACARgAAgEcAAIBAAACQRloAkEdaAJBAWoQAgEYAAIBHAACAQAAAkEZaAJBHWgCQQFqEAIBGAACARwAAgEAAAJBGWgCQR1oAkEBahACARgAAgEcAAIBAAACQRloAkEdaAJBAWoQAgEYAAIBHAACAQAAAkEZaAJBHWgCQQFqEAIBGAACARwAAgEAAAJBGWgCQR1oAkEBahACARgAAgEcAAIBAAACQRloAkEdaAJBAWoQAgEYAAIBHAACAQAAAkEZaAJBHWgCQQFqEAIBGAACARwAAgEAAAJBGWgCQR1oAkEBahACARgAAgEcAAIBAAACQRloAkEdaAJBAWoQAgEYAAIBHAACAQAAAkEZaAJBHWgCQQFqEAIBGAACARwAAgEAAAJBGWgCQR1oAkEBahACARgAAgEcAAIBAAACQRloAkEdaAJBAWoQAgEYAAIBHAACAQAAAkEZaAJBHWgCQQFqEAIBGAACARwAAgEAAAJBGWgCQR1oAkEBahACARgAAgEcAAIBAAACQRloAkEdaAJBAWoQAgEYAAIBHAACAQAAAkEZaAJBHWgCQQFqEAIBGAACARwAAgEAAAJBGWgCQR1oAkEBahACARgAAgEcAAIBAAACQRloAkEdaAJBAWoQAgEYAAIBHAACAQAAAkEZaAJBHWgCQQFqEAIBGAACARwAAgEAAAJBGWgCQR1oAkEBahACARgAAgEcAAIBAAACQRloAkEdaAJBAWoQAgEYAAIBHAACAQAAAkEZaAJBHWgCQQFqEAIBGAACARwAAgEAAAJBGWgCQR1oAkEBahACARgAAgEcAAIBAAACQRloAkEdaAJBAWoQAgEYAAIBHAACAQAAAkEZaAJBHWgCQQFqEAIBGAACARwAAgEAAAJBGWgCQR1oAkEBahACARgAAgEcAAIBAAACQRloAkEdaAJBAWoQAgEYAAIBHAACAQAAAkEZaAJBHWgCQQFqEAIBGAACARwAAgEAAAJBGWgCQR1oAkEBahACARgAAgEcAAIBAAACQRloAkEdaAJBAWoQAgEYAAIBHAACAQAAAkEZaAJBHWgCQQFqEAIBGAACARwAAgEAAAJBGWgCQR1oAkEBahACARgAAgEcAAIBAAACQRloAkEdaAJBAWoQAgEYAAIBHAACAQAAAkEZaAJBHWgCQQFqEAIBGAACARwAAgEAAAJBGWgCQR1oAkEBahACARgAAgEcAAIBAAACQRloAkEdaAJBAWoQAgEYAAIBHAACAQAAAkEZaAJBHWgCQQFqEAIBGAACARwAAgEAAAJBGWgCQR1oAkEBahACARgAAgEcAAIBAAACQRloAkEdaAJBAWoQAgEYAAIBHAACAQAAAkEZaAJBHWgCQQFqEAIBGAACARwAAgEAAAJBGWgCQR1oAkEBahACARgAAgEcAAIBAAACQRloAkEdaAJBAWoQAgEYAAIBHAACAQAAAkEZaAJBHWgCQQFqEAIBGAACARwAAgEAAAJBGWgCQR1oAkEBahACARgAAgEcAAIBAAACQRloAkEdaAJBAWoQAgEYAAIBHAACAQAAAkEZaAJBHWgCQQFqEAIBGAACARwAAgEAAAJBGWgCQR1oAkEBahACARgAAgEcAAIBAAACQRloAkEdaAJBAWoQAgEYAAIBHAACAQAAAkEZaAJBHWgCQQFqEAIBGAACARwAAgEAAAJBGWgCQR1oAkEBahACARgAAgEcAAIBAAACQRloAkEdaAJBAWoQAgEYAAIBHAACAQAAAkEZaAJBHWgCQQFqEAIBGAACARwAAgEAAAJBGWgCQR1oAkEBahACARgAAgEcAAIBAAACQRloAkEdaAJBAWoQAgEYAAIBHAACAQAAAkEZaAJBHWgCQQFqEAIBGAACARwAAgEAAAJBGWgCQR1oAkEBahACARgAAgEcAAIBAAACQRloAkEdaAJBAWoQAgEYAAIBHAACAQAAAkEZaAJBHWgCQQFqEAIBGAACARwAAgEAAAJBGWgCQR1oAkEBahACARgAAgEcAAIBAAACQRloAkEdaAJBAWoQAgEYAAIBHAACAQAAAkEZaAJBHWgCQQFqEAIBGAACARwAAgEAAAJBGWgCQR1oAkEBahACARgAAgEcAAIBAAACQRloAkEdaAJBAWoQAgEYAAIBHAACAQAAAkEZaAJBHWgCQQFqEAIBGAACARwAAgEAAAJBGWgCQR1oAkEBahACARgAAgEcAAIBAAACQRloAkEdaAJBAWoQAgEYAAIBHAACAQAAAkEZaAJBHWgCQQFqEAIBGAACARwAAgEAAAJBGWgCQR1oAkEBahACARgAAgEcAAIBAAACQRloAkEdaAJBAWoQAgEYAAIBHAACAQAAAkEZaAJBHWgCQQFqEAIBGAACARwAAgEAAAJBGWgCQR1oAkEBahACARgAAgEcAAIBAAACQRloAkEdaAJBAWoQAgEYAAIBHAACAQAAAkEZaAJBHWgCQQFqEAIBGAACARwAAgEAAAJBGWgCQR1oAkEBahACARgAAgEcAAIBAAACQRloAkEdaAJBAWoQAgEYAAIBHAACAQAAAkEZaAJBHWgCQQFqEAIBGAACARwAAgEAAAJBGWgCQR1oAkEBahACARgAAgEcAAIBAAACQRloAkEdaAJBAWoQAgEYAAIBHAACAQAAAkEZaAJBHWgCQQFqEAIBGAACARwAAgEAAAJBGWgCQR1oAkEBahACARgAAgEcAAIBAAACQRloAkEdaAJBAWoQAgEYAAIBHAACAQAAAkEZaAJBHWgCQQFqEAIBGAACARwAAgEAAAJBGWgCQR1oAkEBahACARgAAgEcAAIBAAACQRloAkEdaAJBAWoQAgEYAAIBHAACAQAAAkEZaAJBHWgCQQFqEAIBGAACARwAAgEAAAJBGWgCQR1oAkEBahACARgAAgEcAAIBAAACQRloAkEdaAJBAWoQAgEYAAIBHAACAQAAAkEZaAJBHWgCQQFqEAIBGAACARwAAgEAAAJBGWgCQR1oAkEBahACARgAAgEcAAIBAAACQRloAkEdaAJBAWoQAgEYAAIBHAACAQAAAkEZaAJBHWgCQQFqEAIBGAACARwAAgEAAAJBGWgCQR1oAkEBahACARgAAgEcAAIBAAACQRloAkEdaAJBAWoQAgEYAAIBHAACAQAAAkEZaAJBHWgCQQFqEAIBGAACARwAAgEAAAJBGWgCQR1oAkEBahACARgAAgEcAAIBAAACQRloAkEdaAJBAWoQAgEYAAIBHAACAQAAAkEZaAJBHWgCQQFqEAIBGAACARwAAgEAAAJBGWgCQR1oAkEBahACARgAAgEcAAIBAAACQRloAkEdaAJBAWoQAgEYAAIBHAACAQAAAkEZaAJBHWgCQQFqEAIBGAACARwAAgEAAAJBGWgCQR1oAkEBahACARgAAgEcAAIBAAACQRloAkEdaAJBAWoQAgEYAAIBHAACAQAAAkEZaAJBHWgCQQFqEAIBGAACARwAAgEAAAJBGWgCQR1oAkEBahACARgAAgEcAAIBAAACQRloAkEdaAJBAWoQAgEYAAIBHAACAQAAAkEZaAJBHWgCQQFqEAIBGAACARwAAgEAAAJBGWgCQR1oAkEBahACARgAAgEcAAIBAAACQRloAkEdaAJBAWoQAgEYAAIBHAACAQAAAkEZaAJBHWgCQQFqEAIBGAACARwAAgEAAAJBGWgCQR1oAkEBahACARgAAgEcAAIBAAACQRloAkEdaAJBAWoQAgEYAAIBHAACAQAAAkEZaAJBHWgCQQFqEAIBGAACARwAAgEAAAJBGWgCQR1oAkEBahACARgAAgEcAAIBAAACQRloAkEdaAJBAWoQAgEYAAIBHAACAQAAAkEZaAJBHWgCQQFqEAIBGAACARwAAgEAAAJBGWgCQR1oAkEBahACARgAAgEcAAIBAAACQRloAkEdaAJBAWoQAgEYAAIBHAACAQAAAkEZaAJBHWgCQQFqEAIBGAACARwAAgEAAAJBGWgCQR1oAkEBahACARgAAgEcAAIBAAACQRloAkEdaAJBAWoQAgEYAAIBHAACAQAAAkEZaAJBHWgCQQFqEAIBGAACARwAAgEAAAJBGWgCQR1oAkEBahACARgAAgEcAAIBAAACQRloAkEdaAJBAWoQAgEYAAIBHAACAQAAAkEZaAJBHWgCQQFqEAIBGAACARwAAgEAAAJBGWgCQR1oAkEBahACARgAAgEcAAIBAAACQRloAkEdaAJBAWoQAgEYAAIBHAACAQAAAkEZaAJBHWgCQQFqEAIBGAACARwAAgEAAAJBGWgCQR1oAkEBahACARgAAgEcAAIBAAACQRloAkEdaAJBAWoQAgEYAAIBHAACAQAAAkEZaAJBHWgCQQFqEAIBGAACARwAAgEAAAJBGWgCQR1oAkEBahACARgAAgEcAAIBAAACQRloAkEdaAJBAWoQAgEYAAIBHAACAQAAAkEZaAJBHWgCQQFqEAIBGAACARwAAgEAAAJBGWgCQR1oAkEBahACARgAAgEcAAIBAAACQRloAkEdaAJBAWoQAgEYAAIBHAACAQAAAkEZaAJBHWgCQQFqEAIBGAACARwAAgEAAAJBGWgCQR1oAkEBahACARgAAgEcAAIBAAACQRloAkEdaAJBAWoQAgEYAAIBHAACAQAAAkEZaAJBHWgCQQFqEAIBGAACARwAAgEAAAJBGWgCQR1oAkEBahACARgAAgEcAAIBAAACQRloAkEdaAJBAWoQAgEYAAIBHAACAQAAAkEZaAJBHWgCQQFqEAIBGAACARwAAgEAAAJBGWgCQR1oAkEBahACARgAAgEcAAIBAAACQRloAkEdaAJBAWoQAgEYAAIBHAACAQAAAkEZaAJBHWgCQQFqEAIBGAACARwAAgEAAAJBGWgCQR1oAkEBahACARgAAgEcAAIBAAACQRloAkEdaAJBAWoQAgEYAAIBHAACAQAAAkEZaAJBHWgCQQFqEAIBGAACARwAAgEAAAJBGWgCQR1oAkEBahACARgAAgEcAAIBAAACQRloAkEdaAJBAWoQAgEYAAIBHAACAQAAAkEZaAJBHWgCQQFqEAIBGAACARwAAgEAAAJBGWgCQR1oAkEBahACARgAAgEcAAIBAAACQRloAkEdaAJBAWoQAgEYAAIBHAACAQAAAkEZaAJBHWgCQQFqEAIBGAACARwAAgEAAAJBGWgCQR1oAkEBahACARgAAgEcAAIBAAACQRloAkEdaAJBAWoQAgEYAAIBHAACAQAAAkEZaAJBHWgCQQFqEAIBGAACARwAAgEAAAJBGWgCQR1oAkEBahACARgAAgEcAAIBAAACQRloAkEdaAJBAWoQAgEYAAIBHAACAQAAAkEZaAJBHWgCQQFqEAIBGAACARwAAgEAAAJBGWgCQR1oAkEBahACARgAAgEcAAIBAAACQRloAkEdaAJBAWoQAgEYAAIBHAACAQAAAkEZaAJBHWgCQQFqEAIBGAACARwAAgEAAAJBGWgCQR1oAkEBahACARgAAgEcAAIBAAACQRloAkEdaAJBAWoQAgEYAAIBHAACAQAAAkEZaAJBHWgCQQFqEAIBGAACARwAAgEAAAJBGWgCQR1oAkEBahACARgAAgEcAAIBAAACQRloAkEdaAJBAWoQAgEYAAIBHAACAQAAAkEZaAJBHWgCQQFqEAIBGAACARwAAgEAAAJBGWgCQR1oAkEBahACARgAAgEcAAIBAAACQRloAkEdaAJBAWoQAgEYAAIBHAACAQAAAkEZaAJBHWgCQQFqEAIBGAACARwAAgEAAAJBGWgCQR1oAkEBahACARgAAgEcAAIBAAACQRloAkEdaAJBAWoQAgEYAAIBHAACAQAAAkEZaAJBHWgCQQFqEAIBGAACARwAAgEAAAJBGWgCQR1oAkEBahACARgAAgEcAAIBAAACQRloAkEdaAJBAWoQAgEYAAIBHAACAQAAAkEZaAJBHWgCQQFqEAIBGAACARwAAgEAAAJBGWgCQR1oAkEBahACARgAAgEcAAIBAAACQRloAkEdaAJBAWoQAgEYAAIBHAACAQAAAkEZaAJBHWgCQQFqEAIBGAACARwAAgEAAAJBGWgCQR1oAkEBahACARgAAgEcAAIBAAACQRloAkEdaAJBAWoQAgEYAAIBHAACAQAAAkEZaAJBHWgCQQFqEAIBGAACARwAAgEAAAJBGWgCQR1oAkEBahACARgAAgEcAAIBAAACQRloAkEdaAJBAWoQAgEYAAIBHAACAQAAAkEZaAJBHWgCQQFqEAIBGAACARwAAgEAAAJBGWgCQR1oAkEBahACARgAAgEcAAIBAAACQRloAkEdaAJBAWoQAgEYAAIBHAACAQAAAkEZaAJBHWgCQQFqEAIBGAACARwAAgEAAAJBGWgCQR1oAkEBahACARgAAgEcAAIBAAACQRloAkEdaAJBAWoQAgEYAAIBHAACAQAAAkEZaAJBHWgCQQFqEAIBGAACARwAAgEAAAJBGWgCQR1oAkEBahACARgAAgEcAAIBAAACQRloAkEdaAJBAWoQAgEYAAIBHAACAQAAAkEZaAJBHWgCQQFqEAIBGAACARwAAgEAAAJBGWgCQR1oAkEBahACARgAAgEcAAIBAAACQRloAkEdaAJBAWoQAgEYAAIBHAACAQAAAkEZaAJBHWgCQQFqEAIBGAACARwAAgEAAAJBGWgCQR1oAkEBahACARgAAgEcAAIBAAACQRloAkEdaAJBAWoQAgEYAAIBHAACAQAAAkEZaAJBHWgCQQFqEAIBGAACARwAAgEAAAJBGWgCQR1oAkEBahACARgAAgEcAAIBAAACQRloAkEdaAJBAWoQAgEYAAIBHAACAQAAAkEZaAJBHWgCQQFqEAIBGAACARwAAgEAAAJBGWgCQR1oAkEBahACARgAAgEcAAIBAAACQRloAkEdaAJBAWoQAgEYAAIBHAACAQAAAkEZaAJBHWgCQQFqEAIBGAACARwAAgEAAAJBGWgCQR1oAkEBahACARgAAgEcAAIBAAACQRloAkEdaAJBAWoQAgEYAAIBHAACAQAAAkEZaAJBHWgCQQFqEAIBGAACARwAAgEAAAJBGWgCQR1oAkEBahACARgAAgEcAAIBAAACQRloAkEdaAJBAWoQAgEYAAIBHAACAQAAAkEZaAJBHWgCQQFqEAIBGAACARwAAgEAAAJBGWgCQR1oAkEBahACARgAAgEcAAIBAAACQRloAkEdaAJBAWoQAgEYAAIBHAACAQAAAkEZaAJBHWgCQQFqEAIBGAACARwAAgEAAAJBGWgCQR1oAkEBahACARgAAgEcAAIBAAACQRloAkEdaAJBAWoQAgEYAAIBHAACAQAAAkEZaAJBHWgCQQFqEAIBGAACARwAAgEAAAJBGWgCQR1oAkEBahACARgAAgEcAAIBAAACQRloAkEdaAJBAWoQAgEYAAIBHAACAQAAAkEZaAJBHWgCQQFqEAIBGAACARwAAgEAAAJBGWgCQR1oAkEBahACARgAAgEcAAIBAAACQRloAkEdaAJBAWoQAgEYAAIBHAACAQAAAkEZaAJBHWgCQQFqEAIBGAACARwAAgEAAAJBGWgCQR1oAkEBahACARgAAgEcAAIBAAACQRloAkEdaAJBAWoQAgEYAAIBHAACAQAAAkEZaAJBHWgCQQFqEAIBGAACARwAAgEAAAJBGWgCQR1oAkEBahACARgAAgEcAAIBAAACQRloAkEdaAJBAWoQAgEYAAIBHAACAQAAAkEZaAJBHWgCQQFqEAIBGAACARwAAgEAAAJBGWgCQR1oAkEBahACARgAAgEcAAIBAAACQRloAkEdaAJBAWoQAgEYAAIBHAACAQAAAkEZaAJBHWgCQQFqEAIBGAACARwAAgEAAAJBGWgCQR1oAkEBahACARgAAgEcAAIBAAACQRloAkEdaAJBAWoQAgEYAAIBHAACAQAAAkEZaAJBHWgCQQFqEAIBGAACARwAAgEAAAJBGWgCQR1oAkEBahACARgAAgEcAAIBAAACQRloAkEdaAJBAWoQAgEYAAIBHAACAQAAAkEZaAJBHWgCQQFqEAIBGAACARwAAgEAAAJBGWgCQR1oAkEBahACARgAAgEcAAIBAAACQRloAkEdaAJBAWoQAgEYAAIBHAACAQAAAkEZaAJBHWgCQQFqEAIBGAACARwAAgEAAAJBGWgCQR1oAkEBahACARgAAgEcAAIBAAACQRloAkEdaAJBAWoQAgEYAAIBHAACAQAAAkEZaAJBHWgCQQFqEAIBGAACARwAAgEAAAJBGWgCQR1oAkEBahACARgAAgEcAAIBAAACQRloAkEdaAJBAWoQAgEYAAIBHAACAQAAAkEZaAJBHWgCQQFqEAIBGAACARwAAgEAAAJBGWgCQR1oAkEBahACARgAAgEcAAIBAAACQRloAkEdaAJBAWoQAgEYAAIBHAACAQAAAkEZaAJBHWgCQQFqEAIBGAACARwAAgEAAAJBGWgCQR1oAkEBahACARgAAgEcAAIBAAACQRloAkEdaAJBAWoQAgEYAAIBHAACAQAAAkEZaAJBHWgCQQFqEAIBGAACARwAAgEAAAJBGWgCQR1oAkEBahACARgAAgEcAAIBAAACQRloAkEdaAJBAWoQAgEYAAIBHAACAQAAAkEZaAJBHWgCQQFqEAIBGAACARwAAgEAAAJBGWgCQR1oAkEBahACARgAAgEcAAIBAAACQRloAkEdaAJBAWoQAgEYAAIBHAACAQAAAkEZaAJBHWgCQQFqEAIBGAACARwAAgEAAAJBGWgCQR1oAkEBahACARgAAgEcAAIBAAACQRloAkEdaAJBAWoQAgEYAAIBHAACAQAAAkEZaAJBHWgCQQFqEAIBGAACARwAAgEAAAJBGWgCQR1oAkEBahACARgAAgEcAAIBAAACQRloAkEdaAJBAWoQAgEYAAIBHAACAQAAAkEZaAJBHWgCQQFqEAIBGAACARwAAgEAAAJBGWgCQR1oAkEBahACARgAAgEcAAIBAAACQRloAkEdaAJBAWoQAgEYAAIBHAACAQAAAkEZaAJBHWgCQQFqEAIBGAACARwAAgEAAAJBGWgCQR1oAkEBahACARgAAgEcAAIBAAACQRloAkEdaAJBAWoQAgEYAAIBHAACAQAAAkEZaAJBHWgCQQFqEAIBGAACARwAAgEAAAJBGWgCQR1oAkEBahACARgAAgEcAAIBAAACQRloAkEdaAJBAWoQAgEYAAIBHAACAQAAAkEZaAJBHWgCQQFqEAIBGAACARwAAgEAAAJBGWgCQR1oAkEBahACARgAAgEcAAIBAAACQRloAkEdaAJBAWoQAgEYAAIBHAACAQAAAkEZaAJBHWgCQQFqEAIBGAACARwAAgEAAAJBGWgCQR1oAkEBahACARgAAgEcAAIBAAACQRloAkEdaAJBAWoQAgEYAAIBHAACAQAAAkEZaAJBHWgCQQFqEAIBGAACARwAAgEAAAJBGWgCQR1oAkEBahACARgAAgEcAAIBAAACQRloAkEdaAJBAWoQAgEYAAIBHAACAQAAAkEZaAJBHWgCQQFqEAIBGAACARwAAgEAAAJBGWgCQR1oAkEBahACARgAAgEcAAIBAAACQRloAkEdaAJBAWoQAgEYAAIBHAACAQAAAkEZaAJBHWgCQQFqEAIBGAACARwAAgEAAAJBGWgCQR1oAkEBahACARgAAgEcAAIBAAACQRloAkEdaAJBAWoQAgEYAAIBHAACAQAAAkEZaAJBHWgCQQFqEAIBGAACARwAAgEAAAJBGWgCQR1oAkEBahACARgAAgEcAAIBAAACQRloAkEdaAJBAWoQAgEYAAIBHAACAQAAAkEZaAJBHWgCQQFqEAIBGAACARwAAgEAAAJBGWgCQR1oAkEBahACARgAAgEcAAIBAAACQRloAkEdaAJBAWoQAgEYAAIBHAACAQAAAkEZaAJBHWgCQQFqEAIBGAACARwAAgEAAAJBGWgCQR1oAkEBahACARgAAgEcAAIBAAACQRloAkEdaAJBAWoQAgEYAAIBHAACAQAAAkEZaAJBHWgCQQFqEAIBGAACARwAAgEAAAJBGWgCQR1oAkEBahACARgAAgEcAAIBAAACQRloAkEdaAJBAWoQAgEYAAIBHAACAQAAAkEZaAJBHWgCQQFqEAIBGAACARwAAgEAAAJBGWgCQR1oAkEBahACARgAAgEcAAIBAAACQRloAkEdaAJBAWoQAgEYAAIBHAACAQAAAkEZaAJBHWgCQQFqEAIBGAACARwAAgEAAAJBGWgCQR1oAkEBahACARgAAgEcAAIBAAACQRloAkEdaAJBAWoQAgEYAAIBHAACAQAAAkEZaAJBHWgCQQFqEAIBGAACARwAAgEAAAJBGWgCQR1oAkEBahACARgAAgEcAAIBAAACQRloAkEdaAJBAWoQAgEYAAIBHAACAQAAAkEZaAJBHWgCQQFqEAIBGAACARwAAgEAAAJBGWgCQR1oAkEBahACARgAAgEcAAIBAAACQRloAkEdaAJBAWoQAgEYAAIBHAACAQAAAkEZaAJBHWgCQQFqEAIBGAACARwAAgEAAAJBGWgCQR1oAkEBahACARgAAgEcAAIBAAACQRloAkEdaAJBAWoQAgEYAAIBHAACAQAAAkEZaAJBHWgCQQFqEAIBGAACARwAAgEAAAJBGWgCQR1oAkEBahACARgAAgEcAAIBAAACQRloAkEdaAJBAWoQAgEYAAIBHAACAQAAAkEZaAJBHWgCQQFqEAIBGAACARwAAgEAAAJBGWgCQR1oAkEBahACARgAAgEcAAIBAAACQRloAkEdaAJBAWoQAgEYAAIBHAACAQAAAkEZaAJBHWgCQQFqEAIBGAACARwAAgEAAAJBGWgCQR1oAkEBahACARgAAgEcAAIBAAACQRloAkEdaAJBAWoQAgEYAAIBHAACAQAAAkEZaAJBHWgCQQFqEAIBGAACARwAAgEAAAJBGWgCQR1oAkEBahACARgAAgEcAAIBAAACQRloAkEdaAJBAWoQAgEYAAIBHAACAQAAAkEZaAJBHWgCQQFqEAIBGAACARwAAgEAAAJBGWgCQR1oAkEBahACARgAAgEcAAIBAAACQRloAkEdaAJBAWoQAgEYAAIBHAACAQAAAkEZaAJBHWgCQQFqEAIBGAACARwAAgEAAAJBGWgCQR1oAkEBahACARgAAgEcAAIBAAACQRloAkEdaAJBAWoQAgEYAAIBHAACAQACIAP8vAA==');\n",
              "                        });\n",
              "                </script>"
            ],
            "text/plain": [
              "<IPython.core.display.HTML object>"
            ]
          },
          "metadata": {}
        }
      ]
    },
    {
      "cell_type": "code",
      "metadata": {
        "id": "WCWezo5AXaWv"
      },
      "source": [
        ""
      ],
      "execution_count": null,
      "outputs": []
    },
    {
      "cell_type": "code",
      "metadata": {
        "id": "OWlS_bD8XaWv"
      },
      "source": [
        ""
      ],
      "execution_count": null,
      "outputs": []
    }
  ]
}
